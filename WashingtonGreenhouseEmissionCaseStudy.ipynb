{
 "cells": [
  {
   "cell_type": "markdown",
   "metadata": {},
   "source": [
    "# A Brief Look at Aggregate and Per Person Greenhouse Gas Emissions in Washington State\n",
    "\n",
    "## Lelia Hampton November 13, 2018\n",
    "\n",
    "According to the State of Washington, \"This indicator tracks purchases made in Washington and measures the output of greenhouse gases related to product life cycles. The index shows how consumer purchasing patterns and habits affect climate change.\" The data set contains data for aggregate greenhouse emissions and greenhouse emissions per person from 2000 to 2010. \n",
    "\n",
    "Goals: The goal of this case study is to do an exploratory analysis on the given dataset, using descriptive statistics, data visualization, and linear regression where appropriate. \n",
    "\n",
    "This data set was retrieved from https://catalog.data.gov/dataset/climate-change-index in November 2018. "
   ]
  },
  {
   "cell_type": "code",
   "execution_count": 1,
   "metadata": {},
   "outputs": [],
   "source": [
    "#import Python libraries\n",
    "import pandas as pd\n",
    "import numpy as np\n",
    "import matplotlib.pyplot as plt\n",
    "import scipy.stats as sp"
   ]
  },
  {
   "cell_type": "code",
   "execution_count": 2,
   "metadata": {},
   "outputs": [
    {
     "data": {
      "text/html": [
       "<div>\n",
       "<style scoped>\n",
       "    .dataframe tbody tr th:only-of-type {\n",
       "        vertical-align: middle;\n",
       "    }\n",
       "\n",
       "    .dataframe tbody tr th {\n",
       "        vertical-align: top;\n",
       "    }\n",
       "\n",
       "    .dataframe thead th {\n",
       "        text-align: right;\n",
       "    }\n",
       "</style>\n",
       "<table border=\"1\" class=\"dataframe\">\n",
       "  <thead>\n",
       "    <tr style=\"text-align: right;\">\n",
       "      <th></th>\n",
       "      <th>Year</th>\n",
       "      <th>Aggregate</th>\n",
       "      <th>Per Person</th>\n",
       "      <th>Per $ Spent</th>\n",
       "    </tr>\n",
       "  </thead>\n",
       "  <tbody>\n",
       "    <tr>\n",
       "      <th>0</th>\n",
       "      <td>2000</td>\n",
       "      <td>100.00</td>\n",
       "      <td>100.00</td>\n",
       "      <td>100.00</td>\n",
       "    </tr>\n",
       "    <tr>\n",
       "      <th>1</th>\n",
       "      <td>2001</td>\n",
       "      <td>103.32</td>\n",
       "      <td>102.00</td>\n",
       "      <td>98.41</td>\n",
       "    </tr>\n",
       "    <tr>\n",
       "      <th>2</th>\n",
       "      <td>2002</td>\n",
       "      <td>108.00</td>\n",
       "      <td>105.05</td>\n",
       "      <td>98.59</td>\n",
       "    </tr>\n",
       "    <tr>\n",
       "      <th>3</th>\n",
       "      <td>2003</td>\n",
       "      <td>109.67</td>\n",
       "      <td>105.51</td>\n",
       "      <td>95.59</td>\n",
       "    </tr>\n",
       "    <tr>\n",
       "      <th>4</th>\n",
       "      <td>2004</td>\n",
       "      <td>112.38</td>\n",
       "      <td>106.69</td>\n",
       "      <td>93.47</td>\n",
       "    </tr>\n",
       "    <tr>\n",
       "      <th>5</th>\n",
       "      <td>2005</td>\n",
       "      <td>111.58</td>\n",
       "      <td>104.41</td>\n",
       "      <td>91.92</td>\n",
       "    </tr>\n",
       "    <tr>\n",
       "      <th>6</th>\n",
       "      <td>2006</td>\n",
       "      <td>112.54</td>\n",
       "      <td>103.32</td>\n",
       "      <td>88.24</td>\n",
       "    </tr>\n",
       "    <tr>\n",
       "      <th>7</th>\n",
       "      <td>2007</td>\n",
       "      <td>115.71</td>\n",
       "      <td>104.52</td>\n",
       "      <td>88.05</td>\n",
       "    </tr>\n",
       "    <tr>\n",
       "      <th>8</th>\n",
       "      <td>2008</td>\n",
       "      <td>116.20</td>\n",
       "      <td>103.64</td>\n",
       "      <td>85.41</td>\n",
       "    </tr>\n",
       "    <tr>\n",
       "      <th>9</th>\n",
       "      <td>2009</td>\n",
       "      <td>119.46</td>\n",
       "      <td>105.53</td>\n",
       "      <td>86.83</td>\n",
       "    </tr>\n",
       "    <tr>\n",
       "      <th>10</th>\n",
       "      <td>2010</td>\n",
       "      <td>113.46</td>\n",
       "      <td>99.45</td>\n",
       "      <td>87.79</td>\n",
       "    </tr>\n",
       "  </tbody>\n",
       "</table>\n",
       "</div>"
      ],
      "text/plain": [
       "    Year  Aggregate  Per Person  Per $ Spent\n",
       "0   2000     100.00      100.00       100.00\n",
       "1   2001     103.32      102.00        98.41\n",
       "2   2002     108.00      105.05        98.59\n",
       "3   2003     109.67      105.51        95.59\n",
       "4   2004     112.38      106.69        93.47\n",
       "5   2005     111.58      104.41        91.92\n",
       "6   2006     112.54      103.32        88.24\n",
       "7   2007     115.71      104.52        88.05\n",
       "8   2008     116.20      103.64        85.41\n",
       "9   2009     119.46      105.53        86.83\n",
       "10  2010     113.46       99.45        87.79"
      ]
     },
     "execution_count": 2,
     "metadata": {},
     "output_type": "execute_result"
    }
   ],
   "source": [
    "#Create a dataframe of the data set\n",
    "df = pd.read_csv(\"Climate_Change_Index.csv\")\n",
    "df"
   ]
  },
  {
   "cell_type": "code",
   "execution_count": 3,
   "metadata": {},
   "outputs": [
    {
     "data": {
      "text/plain": [
       "count     11.000000\n",
       "mean     111.120000\n",
       "std        5.674968\n",
       "min      100.000000\n",
       "25%      108.835000\n",
       "50%      112.380000\n",
       "75%      114.585000\n",
       "max      119.460000\n",
       "Name: Aggregate, dtype: float64"
      ]
     },
     "execution_count": 3,
     "metadata": {},
     "output_type": "execute_result"
    }
   ],
   "source": [
    "#Descriptive statistics for Aggregate column\n",
    "agg_desc = df[\"Aggregate\"].describe()\n",
    "agg_desc"
   ]
  },
  {
   "cell_type": "code",
   "execution_count": 4,
   "metadata": {},
   "outputs": [
    {
     "data": {
      "text/plain": [
       "count     11.000000\n",
       "mean     103.647273\n",
       "std        2.309199\n",
       "min       99.450000\n",
       "25%      102.660000\n",
       "50%      104.410000\n",
       "75%      105.280000\n",
       "max      106.690000\n",
       "Name: Per Person, dtype: float64"
      ]
     },
     "execution_count": 4,
     "metadata": {},
     "output_type": "execute_result"
    }
   ],
   "source": [
    "#Descriptive statistics for Per Person column\n",
    "pp_desc = df[\"Per Person\"].describe()\n",
    "pp_desc"
   ]
  },
  {
   "cell_type": "code",
   "execution_count": 12,
   "metadata": {},
   "outputs": [
    {
     "data": {
      "text/plain": [
       "count     11.000000\n",
       "mean      92.209091\n",
       "std        5.298225\n",
       "min       85.410000\n",
       "25%       87.920000\n",
       "50%       91.920000\n",
       "75%       97.000000\n",
       "max      100.000000\n",
       "Name: Per $ Spent, dtype: float64"
      ]
     },
     "execution_count": 12,
     "metadata": {},
     "output_type": "execute_result"
    }
   ],
   "source": [
    "#Descriptive statistics for Per $ Spent column\n",
    "pms_desc = df[\"Per $ Spent\"].describe()\n",
    "pms_desc"
   ]
  },
  {
   "cell_type": "code",
   "execution_count": 5,
   "metadata": {},
   "outputs": [
    {
     "data": {
      "image/png": "[encoded data removed]",
      "text/plain": [
       "<Figure size 432x288 with 1 Axes>"
      ]
     },
     "metadata": {},
     "output_type": "display_data"
    }
   ],
   "source": [
    "#Bar graph showing the aggregate greenhouse emission per year\n",
    "objects = df[\"Year\"]\n",
    "y_pos = np.arange(len(objects))\n",
    "\n",
    "plt.bar(y_pos, df[\"Aggregate\"], align='center', alpha=0.5)\n",
    "plt.xticks(y_pos, objects)\n",
    "plt.xlabel(\"Year\")\n",
    "plt.ylabel('Aggregate Greenhouse Emission')\n",
    "plt.title('Aggregate Greenhouse Emission by Year')\n",
    "\n",
    "plt.show()"
   ]
  },
  {
   "cell_type": "code",
   "execution_count": 6,
   "metadata": {},
   "outputs": [
    {
     "data": {
      "image/png": "[encoded data removed]",
      "text/plain": [
       "<Figure size 432x288 with 1 Axes>"
      ]
     },
     "metadata": {},
     "output_type": "display_data"
    }
   ],
   "source": [
    "#Bar graph showing the aggregate greenhouse emission per year\n",
    "objects = df[\"Year\"]\n",
    "y_pos = np.arange(len(objects))\n",
    "\n",
    "plt.bar(y_pos, df[\"Per Person\"], align='center', alpha=0.5)\n",
    "plt.xticks(y_pos, objects)\n",
    "plt.xlabel(\"Year\")\n",
    "plt.ylabel('Greenhouse Emission Per Person')\n",
    "plt.title('Greenhouse Emission Per Person by Year')\n",
    "\n",
    "plt.show()"
   ]
  },
  {
   "cell_type": "code",
   "execution_count": 7,
   "metadata": {},
   "outputs": [
    {
     "name": "stdout",
     "output_type": "stream",
     "text": [
      "slope: 1.5336363636363637\n",
      "intercept: -2963.8209090909095\n",
      "r-value: 0.896304001230257\n",
      "p-value: 0.00018731931853936933\n",
      "std error: 0.2529186108048596\n"
     ]
    }
   ],
   "source": [
    "#Linear regression for x = year and y = aggregate greenhouse emission\n",
    "slope, intercept, r_value, p_value, std_err = sp.linregress(df[\"Year\"], df[\"Aggregate\"])\n",
    "print(\"slope: \" + str(slope))\n",
    "print(\"intercept: \" + str(intercept))\n",
    "print(\"r-value: \" + str(r_value))\n",
    "print(\"p-value: \" + str(p_value))\n",
    "print(\"std error: \" + str(std_err))"
   ]
  },
  {
   "cell_type": "code",
   "execution_count": 8,
   "metadata": {},
   "outputs": [
    {
     "name": "stdout",
     "output_type": "stream",
     "text": [
      "Aggregate emissions for 2019: 132.590909090909\n",
      "Aggregate emissions for 2020: 134.1245454545451\n",
      "Aggregate emissions for 2021: 135.65818181818167\n",
      "Aggregate emissions for 2022: 137.19181818181778\n",
      "Aggregate emissions for 2023: 138.72545454545434\n"
     ]
    }
   ],
   "source": [
    "#Prediction of greenhouse emissions for the next five years\n",
    "for year in range(2019, 2024):\n",
    "    greenhouseEmission = (slope * year) + intercept\n",
    "    print(\"Aggregate emissions for \" + str(year) + \": \" + str(greenhouseEmission))"
   ]
  },
  {
   "cell_type": "code",
   "execution_count": 9,
   "metadata": {},
   "outputs": [
    {
     "data": {
      "text/plain": [
       "Text(0.5,1,'Aggregate Greenhouse Emission by Year')"
      ]
     },
     "execution_count": 9,
     "metadata": {},
     "output_type": "execute_result"
    },
    {
     "data": {
      "image/png": "[encoded data removed]",
      "text/plain": [
       "<Figure size 432x288 with 1 Axes>"
      ]
     },
     "metadata": {},
     "output_type": "display_data"
    }
   ],
   "source": [
    "#Plot the linear regession equation on a line\n",
    "years = df[\"Year\"].tolist()\n",
    "y_vals = [slope * i + intercept for i in years] #create a list of y values\n",
    "\n",
    "plt.scatter(df[\"Year\"], df[\"Aggregate\"])\n",
    "plt.plot(df[\"Year\"], y_vals) #plot a line\n",
    "plt.xlabel(\"Year\")\n",
    "plt.ylabel('Aggregate Greenhouse Emission')\n",
    "plt.title('Aggregate Greenhouse Emission by Year')"
   ]
  },
  {
   "cell_type": "code",
   "execution_count": 10,
   "metadata": {},
   "outputs": [
    {
     "name": "stdout",
     "output_type": "stream",
     "text": [
      "slope: 0.01627272727272733\n",
      "intercept: 71.02045454545444\n",
      "r-value: 0.023371966464390583\n",
      "p-value: 0.9456198305773147\n",
      "std error: 0.23201987462763227\n"
     ]
    }
   ],
   "source": [
    "#Linear regression for x = year and y = greenhouse emission per person\n",
    "slope, intercept, r_value, p_value, std_err = sp.linregress(df[\"Year\"], df[\"Per Person\"])\n",
    "print(\"slope: \" + str(slope))\n",
    "print(\"intercept: \" + str(intercept))\n",
    "print(\"r-value: \" + str(r_value))\n",
    "print(\"p-value: \" + str(p_value))\n",
    "print(\"std error: \" + str(std_err))"
   ]
  },
  {
   "cell_type": "code",
   "execution_count": 11,
   "metadata": {},
   "outputs": [
    {
     "data": {
      "text/plain": [
       "Text(0.5,1,'Greenhouse Emission Per Person by Year')"
      ]
     },
     "execution_count": 11,
     "metadata": {},
     "output_type": "execute_result"
    },
    {
     "data": {
      "image/png": "[encoded data removed]",
      "text/plain": [
       "<Figure size 432x288 with 1 Axes>"
      ]
     },
     "metadata": {},
     "output_type": "display_data"
    }
   ],
   "source": [
    "#Plot the linear regession equation on a line\n",
    "years = df[\"Year\"].tolist()\n",
    "y_vals = [slope * i + intercept for i in years] #create a list of y values\n",
    "\n",
    "plt.scatter(df[\"Year\"], df[\"Per Person\"])\n",
    "plt.plot(df[\"Year\"], y_vals) #plot a line\n",
    "plt.xlabel(\"Year\")\n",
    "plt.ylabel('Greenhouse Emission Per Person')\n",
    "plt.title('Greenhouse Emission Per Person by Year')"
   ]
  },
  {
   "cell_type": "code",
   "execution_count": 14,
   "metadata": {},
   "outputs": [
    {
     "name": "stdout",
     "output_type": "stream",
     "text": [
      "slope: -0.971903965722474\n",
      "intercept: 200.73838113020958\n",
      "r-value: -0.9073824062122166\n",
      "p-value: 0.00011453137914485325\n",
      "std error: 0.1500642971063384\n"
     ]
    }
   ],
   "source": [
    "#Linear regression for x = per $ spent and y = aggregate greenhouse emission\n",
    "slope, intercept, r_value, p_value, std_err = sp.linregress(df[\"Per $ Spent\"], df[\"Aggregate\"])\n",
    "print(\"slope: \" + str(slope))\n",
    "print(\"intercept: \" + str(intercept))\n",
    "print(\"r-value: \" + str(r_value))\n",
    "print(\"p-value: \" + str(p_value))\n",
    "print(\"std error: \" + str(std_err))"
   ]
  },
  {
   "cell_type": "code",
   "execution_count": 15,
   "metadata": {},
   "outputs": [
    {
     "data": {
      "text/plain": [
       "Text(0.5,1,'Aggregate Greenhouse Emission by Per $ Spent')"
      ]
     },
     "execution_count": 15,
     "metadata": {},
     "output_type": "execute_result"
    },
    {
     "data": {
      "image/png": "[encoded data removed]",
      "text/plain": [
       "<Figure size 432x288 with 1 Axes>"
      ]
     },
     "metadata": {},
     "output_type": "display_data"
    }
   ],
   "source": [
    "#Plot the linear regession equation on a line\n",
    "money_spent = df[\"Per $ Spent\"].tolist()\n",
    "y_vals = [slope * i + intercept for i in money_spent] #create a list of y values\n",
    "\n",
    "plt.scatter(df[\"Per $ Spent\"], df[\"Aggregate\"])\n",
    "plt.plot(df[\"Per $ Spent\"], y_vals) #plot a line\n",
    "plt.xlabel(\"Per $ Spent\")\n",
    "plt.ylabel('Aggregate Greenhouse Emission')\n",
    "plt.title('Aggregate Greenhouse Emission by Per $ Spent')"
   ]
  },
  {
   "cell_type": "code",
   "execution_count": null,
   "metadata": {},
   "outputs": [],
   "source": []
  }
 ],
 "metadata": {
  "kernelspec": {
   "display_name": "Python 3",
   "language": "python",
   "name": "python3"
  },
  "language_info": {
   "codemirror_mode": {
    "name": "ipython",
    "version": 3
   },
   "file_extension": ".py",
   "mimetype": "text/x-python",
   "name": "python",
   "nbconvert_exporter": "python",
   "pygments_lexer": "ipython3",
   "version": "3.6.5"
  }
 },
 "nbformat": 4,
 "nbformat_minor": 2
}
